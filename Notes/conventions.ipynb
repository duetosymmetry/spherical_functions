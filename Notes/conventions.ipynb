{
 "cells": [
  {
   "cell_type": "markdown",
   "metadata": {},
   "source": [
    "***NOTE:*** I've run this notebook with the correction to sympy's trig simplification routines found in [this pull request](https://github.com/sympy/sympy/pull/17067), which has not yet made it into a released version.  I just ran `python -c \"import sympy; print(sympy.__file__)\"` to find where on my system the actual files are, then edited `.../simplify/fu.py` as given in the PR."
   ]
  },
  {
   "cell_type": "code",
   "execution_count": 1,
   "metadata": {},
   "outputs": [],
   "source": [
    "import csv\n",
    "import sympy\n",
    "from sympy import sin, cos\n",
    "from sympy.parsing.mathematica import mathematica\n",
    "from sympy.physics.quantum.spin import Rotation\n",
    "from sympy.abc import _clash\n",
    "\n",
    "import numpy as np\n",
    "import quaternion\n",
    "import spherical_functions as sf"
   ]
  },
  {
   "cell_type": "markdown",
   "metadata": {},
   "source": [
    "# Mathematica documentation\n",
    "\n",
    "The Mathematica documentation for `WignerD` says\n",
    "\n",
    "* `WignerD[{j, m_1, m_2}], psi, theta, phi]` gives the Wigner D-function $D^j_{m_1, m_2}(\\psi, \\theta, \\phi)$.\n",
    "* The Wigner D-function $D^j_{m_1, m_2}$ gives the matrix element of a rotation operator parametrized by Euler angles in a $2 j+1$-dimensional unitary representation of a rotation group when parameters $j, m_1, m_2$ are physical, i.e. all integers or half-integers such that $-j \\leq m_1,m_2 \\leq j$.\n",
    "\n",
    "* The Wolfram Language uses phase conventions where $D^j_{m_1, m_2}(\\psi, \\theta, \\phi) = e^{i m_1 \\psi + i m_2 \\phi} D^j_{m_1, m_2}(0, \\theta, 0)$.\n",
    "\n",
    "* `WignerD[{j, m1, m2}, psi, theta, phi] == (-1)^(m1 - m2) Conjugate[WignerD[{j, -m1, -m2}, psi, theta, phi]`\n",
    "\n",
    "* `WignerD[{j, m1, m2}, psi, theta, phi] == (-1)^(m1 - m2) WignerD[{j, m2, m1}, phi, theta, psi]`\n",
    "\n",
    "There are no more specifics about what the Euler angles mean in this function's documentation, but the documentation for `EulerMatrix[{alpha, beta, gamma}]` says that it \"gives the Euler 3D rotation matrix formed by rotating by $\\alpha$ around the current $z$ axis, then by $\\beta$ around the current $y$ axis, and then by $\\gamma$ around the current $z$ axis.\"  This is ambiguous, but \n",
    "we later find that `EulerMatrix[{alpha, beta, gamma}, {a, b, c}]` is equivalent to $R_{\\alpha, a} R_{\\beta, b} R_{\\gamma, c}$.  Evidently, \"current\" refers to the rotating body axes, and so `EulerMatrix[{alpha, beta, gamma}]` is what I would write in quaternion form as\n",
    "\\begin{equation}\n",
    "  e^{\\alpha \\hat{z}/2} e^{\\beta \\hat{y}/2} e^{\\gamma \\hat{z}/2} = e^{\\gamma \\hat{z}''/2} e^{\\beta \\hat{y}'/2} e^{\\alpha \\hat{z}/2}\n",
    "\\end{equation}\n",
    "\n",
    "I've created a CSV file with the analytic expressions for `j` from 0 through 5, using this code:\n",
    "```mathematica\n",
    "SetDirectory[NotebookDirectory[]];\n",
    "Export[\n",
    "  \"conventions_mathematica.csv\",\n",
    "  Flatten[\n",
    "   Table[{j, m1, m2, ToString[WignerD[{j, m1, m2}, psi, theta, phi], InputForm]},\n",
    "     {j, 0, 5}, {m1, -j, j}, {m2, -j, j} ], 2],\n",
    "  TableHeadings -> {\"j\", \"m1\", \"m2\", \"WignerD[{j, m1, m2}, psi, theta, phi]\"}\n",
    "];\n",
    "```\n",
    "I'll be comparing these expressions to SymPy's, and then evaluating them to compare to the results from `spherical_functions`."
   ]
  },
  {
   "cell_type": "markdown",
   "metadata": {},
   "source": [
    "# SymPy documentation\n",
    "\n",
    "The SymPy documentation is unclear and a little self-contradictory.  The main docstring for `sympy.physics.quantum.spin.Rotation` says that it\n",
    "\n",
    "> Defines the rotation operator in terms of the Euler angles defined by the z-y-z convention for a passive transformation. That is the coordinate axes are rotated first about the z-axis, giving the new x'-y'-z' axes. Then this new coordinate system is rotated about the new y'-axis, giving new x''-y''-z'' axes. Then this new coordinate system is rotated about the z''-axis. Conventions follow those laid out in Varshalovich.\n",
    "* `alpha`: First Euler Angle\n",
    "* `beta`: Second Euler angle\n",
    "* `gamma`: Third Euler angle\n",
    "\n",
    "The docstring for `sympy.physics.quantum.spin.WignerD` says\n",
    "\n",
    "> The Wigner D-function gives the matrix elements of the rotation operator in the jm-representation. For the Euler angles $\\alpha$, $\\beta$, $\\gamma$, the D-function is defined such that:\n",
    "\\begin{equation}\n",
    "  \\left\\langle j,m| \\mathcal{R}(\\alpha, \\beta, \\gamma ) |j',m' \\right \\rangle\n",
    "  = \\delta_{jj'} D(j, m, m', \\alpha, \\beta, \\gamma)\n",
    "\\end{equation}\n",
    "Where the rotation operator is as defined by the Rotation class.\n",
    "> \n",
    "> The Wigner D-function defined in this way gives:\n",
    "\\begin{equation}\n",
    "  D(j, m, m', \\alpha, \\beta, \\gamma) = e^{-i m \\alpha} d(j, m, m', \\beta) e^{-i m' \\gamma}\n",
    "\\end{equation}\n",
    "Where `d` is the Wigner small-d function, which is given by `Rotation.d`.\n",
    "> \n",
    "> The Wigner small-d function gives the component of the Wigner D-function that is determined by the second Euler angle. That is the Wigner D-function is:\n",
    "\\begin{equation}\n",
    "  D(j, m, m', \\alpha, \\beta, \\gamma) = e^{-i m \\alpha} d(j, m, m', \\beta) e^{-i m' \\gamma}\n",
    "\\end{equation}\n",
    "Where `d` is the small-d function. The Wigner D-function is given by `Rotation.D`.\n",
    "* `j`: Total angular momentum\n",
    "* `m`: Eigenvalue of angular momentum along axis after rotation\n",
    "* `mp`: Eigenvalue of angular momentum along rotated axis\n",
    "\n",
    "Again, this is all pretty ambiguous, regarding exactly which angle is supposed to go with which rotation, but my best guess is that it looks like this:\n",
    "\\begin{equation}\n",
    "  e^{\\gamma \\hat{z}''/2} e^{\\beta \\hat{y}'/2} e^{\\alpha \\hat{z}/2} = e^{\\alpha \\hat{z}/2} e^{\\beta \\hat{y}/2} e^{\\gamma \\hat{z}/2},\n",
    "\\end{equation}\n",
    "which is precisely the same as my interpretation of Mathematica's convention."
   ]
  },
  {
   "cell_type": "markdown",
   "metadata": {},
   "source": [
    "Here's the notation SymPy uses for the D matrices:"
   ]
  },
  {
   "cell_type": "code",
   "execution_count": 10,
   "metadata": {},
   "outputs": [
    {
     "data": {
      "text/latex": [
       "$\\displaystyle D^{j}_{m,{m}'}\\left(\\alpha,\\beta,\\gamma\\right)$"
      ],
      "text/plain": [
       "WignerD(j, m, mprime, alpha, beta, gamma)"
      ]
     },
     "execution_count": 10,
     "metadata": {},
     "output_type": "execute_result"
    }
   ],
   "source": [
    "Rotation.D(j, m, mp, alpha, beta, gamma)"
   ]
  },
  {
   "cell_type": "markdown",
   "metadata": {},
   "source": [
    "# Compare `quaternion`'s Euler angles to Mathematica's"
   ]
  },
  {
   "cell_type": "markdown",
   "metadata": {},
   "source": [
    "Although the Mathematica documentation doesn't *explicitly* relate its `WignerD` and `EulerMatrix` functions, I think enough of Mathematica to guess that they at least use consistent conventions.  And `spherical_functions` explicitly takes a `quaternion` object, so to the extent that I use Euler angles at all, we can stay consistent in this way.\n",
    "\n",
    "So first, we check the rotation matrix that comes out of [`quaternion` via Euler angles](https://github.com/moble/quaternion/blob/0897de81504be8db0aed0f47fb3b62ca164bcc82/__init__.py#L481-L484):"
   ]
  },
  {
   "cell_type": "code",
   "execution_count": 49,
   "metadata": {},
   "outputs": [
    {
     "data": {
      "text/latex": [
       "$\\displaystyle \\left[\\begin{matrix}- \\sin{\\left(\\phi \\right)} \\sin{\\left(\\psi \\right)} + \\cos{\\left(\\phi \\right)} \\cos{\\left(\\psi \\right)} \\cos{\\left(\\theta \\right)} & - \\sin{\\left(\\phi \\right)} \\cos{\\left(\\psi \\right)} \\cos{\\left(\\theta \\right)} - \\sin{\\left(\\psi \\right)} \\cos{\\left(\\phi \\right)} & \\sin{\\left(\\theta \\right)} \\cos{\\left(\\psi \\right)}\\\\\\sin{\\left(\\phi \\right)} \\cos{\\left(\\psi \\right)} + \\sin{\\left(\\psi \\right)} \\cos{\\left(\\phi \\right)} \\cos{\\left(\\theta \\right)} & - \\sin{\\left(\\phi \\right)} \\sin{\\left(\\psi \\right)} \\cos{\\left(\\theta \\right)} + \\cos{\\left(\\phi \\right)} \\cos{\\left(\\psi \\right)} & \\sin{\\left(\\psi \\right)} \\sin{\\left(\\theta \\right)}\\\\- \\sin{\\left(\\theta \\right)} \\cos{\\left(\\phi \\right)} & \\sin{\\left(\\phi \\right)} \\sin{\\left(\\theta \\right)} & \\cos{\\left(\\theta \\right)}\\end{matrix}\\right]$"
      ],
      "text/plain": [
       "Matrix([\n",
       "[-sin(phi)*sin(psi) + cos(phi)*cos(psi)*cos(theta), -sin(phi)*cos(psi)*cos(theta) - sin(psi)*cos(phi), sin(theta)*cos(psi)],\n",
       "[ sin(phi)*cos(psi) + sin(psi)*cos(phi)*cos(theta), -sin(phi)*sin(psi)*cos(theta) + cos(phi)*cos(psi), sin(psi)*sin(theta)],\n",
       "[                             -sin(theta)*cos(phi),                               sin(phi)*sin(theta),          cos(theta)]])"
      ]
     },
     "execution_count": 49,
     "metadata": {},
     "output_type": "execute_result"
    }
   ],
   "source": [
    "class QuaternionFromEuler(object):\n",
    "    def __init__(self, alpha, beta, gamma):\n",
    "        # This is essentially copied from the quaternion code\n",
    "        self.w = cos(beta/2)*cos((alpha+gamma)/2)\n",
    "        self.x = -sin(beta/2)*sin((alpha-gamma)/2)\n",
    "        self.y = sin(beta/2)*cos((alpha-gamma)/2)\n",
    "        self.z = cos(beta/2)*sin((alpha+gamma)/2)\n",
    "q = QuaternionFromEuler(psi, theta, phi)\n",
    "\n",
    "sympy.Matrix([\n",
    "    [simplify(1 - 2*(q.y**2 + q.z**2)),  simplify(2*(q.x*q.y - q.z*q.w)),    simplify(2*(q.x*q.z + q.y*q.w))],\n",
    "    [simplify(2*(q.x*q.y + q.z*q.w)),    simplify(1 - 2*(q.x**2 + q.z**2)),  simplify(2*(q.y*q.z - q.x*q.w))],\n",
    "    [simplify(2*(q.x*q.z - q.y*q.w)),    simplify(2*(q.y*q.z + q.x*q.w)),    simplify(1 - 2*(q.x**2 + q.y**2))]\n",
    "])"
   ]
  },
  {
   "cell_type": "markdown",
   "metadata": {},
   "source": [
    "This is precisely the same matrix as Mathematica returns from `EulerMatrix[{ψ, θ, ϕ}]`, which would suggest to me that my Euler conventions are the same as Mathematica's."
   ]
  },
  {
   "cell_type": "markdown",
   "metadata": {},
   "source": [
    "# Compare Mathematica's expressions to SymPy's"
   ]
  },
  {
   "cell_type": "code",
   "execution_count": 2,
   "metadata": {},
   "outputs": [],
   "source": [
    "j, m1, m2 = sympy.symbols('j, m1, m2', integer=True)\n",
    "#psi, theta, phi = sympy.symbols('psi, theta, phi', real=True)"
   ]
  },
  {
   "cell_type": "code",
   "execution_count": 3,
   "metadata": {},
   "outputs": [
    {
     "name": "stdout",
     "output_type": "stream",
     "text": [
      "Mathematica header: j, m1, m2, WignerD[{j, m1, m2}, psi, theta, phi]\n"
     ]
    }
   ],
   "source": [
    "with open('conventions_mathematica.csv', 'r') as csvfile:\n",
    "    reader = csv.reader(csvfile)\n",
    "    header = next(reader, None)\n",
    "    print('Mathematica header:', ', '.join(header))\n",
    "    mathematica_wignerD = {\n",
    "        tuple(int(s) for s in row[:3]): sympy.sympify(mathematica(row[3]))\n",
    "        for row in reader\n",
    "    }"
   ]
  },
  {
   "cell_type": "markdown",
   "metadata": {},
   "source": [
    "Unfortunately, I can't get `sympify` to correctly use `locals`, so I have to just grab all the symbols that it created in the previous cell, as follows:"
   ]
  },
  {
   "cell_type": "code",
   "execution_count": 4,
   "metadata": {},
   "outputs": [],
   "source": [
    "free_symbols = list(set(symbol for jm1m2 in mathematica_wignerD for symbol in mathematica_wignerD[jm1m2].free_symbols))"
   ]
  },
  {
   "cell_type": "code",
   "execution_count": 7,
   "metadata": {},
   "outputs": [
    {
     "data": {
      "text/plain": [
       "[phi, psi, theta]"
      ]
     },
     "execution_count": 7,
     "metadata": {},
     "output_type": "execute_result"
    }
   ],
   "source": [
    "sorted(free_symbols, key=lambda s: str(s))"
   ]
  },
  {
   "cell_type": "code",
   "execution_count": 8,
   "metadata": {},
   "outputs": [],
   "source": [
    "phi, psi, theta = sorted(free_symbols, key=lambda s: str(s))"
   ]
  },
  {
   "cell_type": "code",
   "execution_count": 9,
   "metadata": {},
   "outputs": [],
   "source": [
    "j, m, mp = sympy.symbols('j, m, mprime', integer=True)\n",
    "alpha, beta, gamma = sympy.symbols('alpha, beta, gamma', real=True)"
   ]
  },
  {
   "cell_type": "markdown",
   "metadata": {},
   "source": [
    "As always, SymPy isn't good enough at simplifying trig functions, so I have to jump through some extra hoops:"
   ]
  },
  {
   "cell_type": "code",
   "execution_count": 11,
   "metadata": {},
   "outputs": [],
   "source": [
    "half_angle_replacements = ([]\n",
    "    +[(sin(theta/2)**n, ((1-cos(theta))/2)**(n//2)) for n in [2, 4, 6, 8]]\n",
    "    +[(cos(theta/2)**n, ((1+cos(theta))/2)**(n//2)) for n in [2, 4, 6, 8]]\n",
    "    +[(sin(theta/2)*cos(theta/2), sin(theta)/2)]\n",
    "    #+[(sin(3*theta/2), 3*sin(theta/2)-4*sin(theta/2)**3)]\n",
    "    #+[(sin(5*theta/2), 5*cos(theta/2)**4*sin(theta/2)-10*cos(theta/2)**2*sin(theta/2)**3+sin(theta/2)**5)]\n",
    ")\n",
    "\n",
    "def simplify(difference):\n",
    "    from sympy import trigsimp, expand\n",
    "    difference = trigsimp(expand(sympy.simplify(difference), trig=True))\n",
    "    difference = sympy.simplify(difference.subs(half_angle_replacements, simultaneous=True))\n",
    "    return difference"
   ]
  },
  {
   "cell_type": "markdown",
   "metadata": {},
   "source": [
    "Finally, we can go through and check each and every expression (even though we could have assumed some symmetries to skip certain combinations) to ensure that the Mathematica expression returned by\n",
    "```\n",
    "WignerD[{j, m1, m2}, psi, theta, phi]\n",
    "```\n",
    "is identical to the SymPy expression returned by\n",
    "```\n",
    "Rotation.D(j, m1, m2, -psi, -theta, -phi)\n",
    "```"
   ]
  },
  {
   "cell_type": "code",
   "execution_count": 12,
   "metadata": {
    "collapsed": true,
    "jupyter": {
     "outputs_hidden": true
    }
   },
   "outputs": [
    {
     "name": "stdout",
     "output_type": "stream",
     "text": [
      "Checking (j, m1, m2) = (0, 0, 0)\n",
      "Checking (j, m1, m2) = (1, -1, -1)\n",
      "Checking (j, m1, m2) = (1, -1, 0)\n",
      "Checking (j, m1, m2) = (1, -1, 1)\n",
      "Checking (j, m1, m2) = (1, 0, -1)\n",
      "Checking (j, m1, m2) = (1, 0, 0)\n",
      "Checking (j, m1, m2) = (1, 0, 1)\n",
      "Checking (j, m1, m2) = (1, 1, -1)\n",
      "Checking (j, m1, m2) = (1, 1, 0)\n",
      "Checking (j, m1, m2) = (1, 1, 1)\n",
      "Checking (j, m1, m2) = (2, -2, -2)\n",
      "Checking (j, m1, m2) = (2, -2, -1)\n",
      "Checking (j, m1, m2) = (2, -2, 0)\n",
      "Checking (j, m1, m2) = (2, -2, 1)\n",
      "Checking (j, m1, m2) = (2, -2, 2)\n",
      "Checking (j, m1, m2) = (2, -1, -2)\n",
      "Checking (j, m1, m2) = (2, -1, -1)\n",
      "Checking (j, m1, m2) = (2, -1, 0)\n",
      "Checking (j, m1, m2) = (2, -1, 1)\n",
      "Checking (j, m1, m2) = (2, -1, 2)\n",
      "Checking (j, m1, m2) = (2, 0, -2)\n",
      "Checking (j, m1, m2) = (2, 0, -1)\n",
      "Checking (j, m1, m2) = (2, 0, 0)\n",
      "Checking (j, m1, m2) = (2, 0, 1)\n",
      "Checking (j, m1, m2) = (2, 0, 2)\n",
      "Checking (j, m1, m2) = (2, 1, -2)\n",
      "Checking (j, m1, m2) = (2, 1, -1)\n",
      "Checking (j, m1, m2) = (2, 1, 0)\n",
      "Checking (j, m1, m2) = (2, 1, 1)\n",
      "Checking (j, m1, m2) = (2, 1, 2)\n",
      "Checking (j, m1, m2) = (2, 2, -2)\n",
      "Checking (j, m1, m2) = (2, 2, -1)\n",
      "Checking (j, m1, m2) = (2, 2, 0)\n",
      "Checking (j, m1, m2) = (2, 2, 1)\n",
      "Checking (j, m1, m2) = (2, 2, 2)\n",
      "Checking (j, m1, m2) = (3, -3, -3)\n",
      "Checking (j, m1, m2) = (3, -3, -2)\n",
      "Checking (j, m1, m2) = (3, -3, -1)\n",
      "Checking (j, m1, m2) = (3, -3, 0)\n",
      "Checking (j, m1, m2) = (3, -3, 1)\n",
      "Checking (j, m1, m2) = (3, -3, 2)\n",
      "Checking (j, m1, m2) = (3, -3, 3)\n",
      "Checking (j, m1, m2) = (3, -2, -3)\n",
      "Checking (j, m1, m2) = (3, -2, -2)\n",
      "Checking (j, m1, m2) = (3, -2, -1)\n",
      "Checking (j, m1, m2) = (3, -2, 0)\n",
      "Checking (j, m1, m2) = (3, -2, 1)\n",
      "Checking (j, m1, m2) = (3, -2, 2)\n",
      "Checking (j, m1, m2) = (3, -2, 3)\n",
      "Checking (j, m1, m2) = (3, -1, -3)\n",
      "Checking (j, m1, m2) = (3, -1, -2)\n",
      "Checking (j, m1, m2) = (3, -1, -1)\n",
      "Checking (j, m1, m2) = (3, -1, 0)\n",
      "Checking (j, m1, m2) = (3, -1, 1)\n",
      "Checking (j, m1, m2) = (3, -1, 2)\n",
      "Checking (j, m1, m2) = (3, -1, 3)\n",
      "Checking (j, m1, m2) = (3, 0, -3)\n",
      "Checking (j, m1, m2) = (3, 0, -2)\n",
      "Checking (j, m1, m2) = (3, 0, -1)\n",
      "Checking (j, m1, m2) = (3, 0, 0)\n",
      "Checking (j, m1, m2) = (3, 0, 1)\n",
      "Checking (j, m1, m2) = (3, 0, 2)\n",
      "Checking (j, m1, m2) = (3, 0, 3)\n",
      "Checking (j, m1, m2) = (3, 1, -3)\n",
      "Checking (j, m1, m2) = (3, 1, -2)\n",
      "Checking (j, m1, m2) = (3, 1, -1)\n",
      "Checking (j, m1, m2) = (3, 1, 0)\n",
      "Checking (j, m1, m2) = (3, 1, 1)\n",
      "Checking (j, m1, m2) = (3, 1, 2)\n",
      "Checking (j, m1, m2) = (3, 1, 3)\n",
      "Checking (j, m1, m2) = (3, 2, -3)\n",
      "Checking (j, m1, m2) = (3, 2, -2)\n",
      "Checking (j, m1, m2) = (3, 2, -1)\n",
      "Checking (j, m1, m2) = (3, 2, 0)\n",
      "Checking (j, m1, m2) = (3, 2, 1)\n",
      "Checking (j, m1, m2) = (3, 2, 2)\n",
      "Checking (j, m1, m2) = (3, 2, 3)\n",
      "Checking (j, m1, m2) = (3, 3, -3)\n",
      "Checking (j, m1, m2) = (3, 3, -2)\n",
      "Checking (j, m1, m2) = (3, 3, -1)\n",
      "Checking (j, m1, m2) = (3, 3, 0)\n",
      "Checking (j, m1, m2) = (3, 3, 1)\n",
      "Checking (j, m1, m2) = (3, 3, 2)\n",
      "Checking (j, m1, m2) = (3, 3, 3)\n",
      "Checking (j, m1, m2) = (4, -4, -4)\n",
      "Checking (j, m1, m2) = (4, -4, -3)\n",
      "Checking (j, m1, m2) = (4, -4, -2)\n",
      "Checking (j, m1, m2) = (4, -4, -1)\n",
      "Checking (j, m1, m2) = (4, -4, 0)\n",
      "Checking (j, m1, m2) = (4, -4, 1)\n",
      "Checking (j, m1, m2) = (4, -4, 2)\n",
      "Checking (j, m1, m2) = (4, -4, 3)\n",
      "Checking (j, m1, m2) = (4, -4, 4)\n",
      "Checking (j, m1, m2) = (4, -3, -4)\n",
      "Checking (j, m1, m2) = (4, -3, -3)\n",
      "Checking (j, m1, m2) = (4, -3, -2)\n",
      "Checking (j, m1, m2) = (4, -3, -1)\n",
      "Checking (j, m1, m2) = (4, -3, 0)\n",
      "Checking (j, m1, m2) = (4, -3, 1)\n",
      "Checking (j, m1, m2) = (4, -3, 2)\n",
      "Checking (j, m1, m2) = (4, -3, 3)\n",
      "Checking (j, m1, m2) = (4, -3, 4)\n",
      "Checking (j, m1, m2) = (4, -2, -4)\n",
      "Checking (j, m1, m2) = (4, -2, -3)\n",
      "Checking (j, m1, m2) = (4, -2, -2)\n",
      "Checking (j, m1, m2) = (4, -2, -1)\n",
      "Checking (j, m1, m2) = (4, -2, 0)\n",
      "Checking (j, m1, m2) = (4, -2, 1)\n",
      "Checking (j, m1, m2) = (4, -2, 2)\n",
      "Checking (j, m1, m2) = (4, -2, 3)\n",
      "Checking (j, m1, m2) = (4, -2, 4)\n",
      "Checking (j, m1, m2) = (4, -1, -4)\n",
      "Checking (j, m1, m2) = (4, -1, -3)\n",
      "Checking (j, m1, m2) = (4, -1, -2)\n",
      "Checking (j, m1, m2) = (4, -1, -1)\n",
      "Checking (j, m1, m2) = (4, -1, 0)\n",
      "Checking (j, m1, m2) = (4, -1, 1)\n",
      "Checking (j, m1, m2) = (4, -1, 2)\n",
      "Checking (j, m1, m2) = (4, -1, 3)\n",
      "Checking (j, m1, m2) = (4, -1, 4)\n",
      "Checking (j, m1, m2) = (4, 0, -4)\n",
      "Checking (j, m1, m2) = (4, 0, -3)\n",
      "Checking (j, m1, m2) = (4, 0, -2)\n",
      "Checking (j, m1, m2) = (4, 0, -1)\n",
      "Checking (j, m1, m2) = (4, 0, 0)\n",
      "Checking (j, m1, m2) = (4, 0, 1)\n",
      "Checking (j, m1, m2) = (4, 0, 2)\n",
      "Checking (j, m1, m2) = (4, 0, 3)\n",
      "Checking (j, m1, m2) = (4, 0, 4)\n",
      "Checking (j, m1, m2) = (4, 1, -4)\n",
      "Checking (j, m1, m2) = (4, 1, -3)\n",
      "Checking (j, m1, m2) = (4, 1, -2)\n",
      "Checking (j, m1, m2) = (4, 1, -1)\n",
      "Checking (j, m1, m2) = (4, 1, 0)\n",
      "Checking (j, m1, m2) = (4, 1, 1)\n",
      "Checking (j, m1, m2) = (4, 1, 2)\n",
      "Checking (j, m1, m2) = (4, 1, 3)\n",
      "Checking (j, m1, m2) = (4, 1, 4)\n",
      "Checking (j, m1, m2) = (4, 2, -4)\n",
      "Checking (j, m1, m2) = (4, 2, -3)\n",
      "Checking (j, m1, m2) = (4, 2, -2)\n",
      "Checking (j, m1, m2) = (4, 2, -1)\n",
      "Checking (j, m1, m2) = (4, 2, 0)\n",
      "Checking (j, m1, m2) = (4, 2, 1)\n",
      "Checking (j, m1, m2) = (4, 2, 2)\n",
      "Checking (j, m1, m2) = (4, 2, 3)\n",
      "Checking (j, m1, m2) = (4, 2, 4)\n",
      "Checking (j, m1, m2) = (4, 3, -4)\n",
      "Checking (j, m1, m2) = (4, 3, -3)\n",
      "Checking (j, m1, m2) = (4, 3, -2)\n",
      "Checking (j, m1, m2) = (4, 3, -1)\n",
      "Checking (j, m1, m2) = (4, 3, 0)\n",
      "Checking (j, m1, m2) = (4, 3, 1)\n",
      "Checking (j, m1, m2) = (4, 3, 2)\n",
      "Checking (j, m1, m2) = (4, 3, 3)\n",
      "Checking (j, m1, m2) = (4, 3, 4)\n",
      "Checking (j, m1, m2) = (4, 4, -4)\n",
      "Checking (j, m1, m2) = (4, 4, -3)\n",
      "Checking (j, m1, m2) = (4, 4, -2)\n",
      "Checking (j, m1, m2) = (4, 4, -1)\n",
      "Checking (j, m1, m2) = (4, 4, 0)\n",
      "Checking (j, m1, m2) = (4, 4, 1)\n",
      "Checking (j, m1, m2) = (4, 4, 2)\n",
      "Checking (j, m1, m2) = (4, 4, 3)\n",
      "Checking (j, m1, m2) = (4, 4, 4)\n",
      "Checking (j, m1, m2) = (5, -5, -5)\n",
      "Checking (j, m1, m2) = (5, -5, -4)\n",
      "Checking (j, m1, m2) = (5, -5, -3)\n",
      "Checking (j, m1, m2) = (5, -5, -2)\n",
      "Checking (j, m1, m2) = (5, -5, -1)\n",
      "Checking (j, m1, m2) = (5, -5, 0)\n",
      "Checking (j, m1, m2) = (5, -5, 1)\n",
      "Checking (j, m1, m2) = (5, -5, 2)\n",
      "Checking (j, m1, m2) = (5, -5, 3)\n",
      "Checking (j, m1, m2) = (5, -5, 4)\n",
      "Checking (j, m1, m2) = (5, -5, 5)\n",
      "Checking (j, m1, m2) = (5, -4, -5)\n",
      "Checking (j, m1, m2) = (5, -4, -4)\n",
      "Checking (j, m1, m2) = (5, -4, -3)\n",
      "Checking (j, m1, m2) = (5, -4, -2)\n",
      "Checking (j, m1, m2) = (5, -4, -1)\n",
      "Checking (j, m1, m2) = (5, -4, 0)\n",
      "Checking (j, m1, m2) = (5, -4, 1)\n",
      "Checking (j, m1, m2) = (5, -4, 2)\n",
      "Checking (j, m1, m2) = (5, -4, 3)\n",
      "Checking (j, m1, m2) = (5, -4, 4)\n",
      "Checking (j, m1, m2) = (5, -4, 5)\n",
      "Checking (j, m1, m2) = (5, -3, -5)\n",
      "Checking (j, m1, m2) = (5, -3, -4)\n",
      "Checking (j, m1, m2) = (5, -3, -3)\n",
      "Checking (j, m1, m2) = (5, -3, -2)\n",
      "Checking (j, m1, m2) = (5, -3, -1)\n",
      "Checking (j, m1, m2) = (5, -3, 0)\n",
      "Checking (j, m1, m2) = (5, -3, 1)\n",
      "Checking (j, m1, m2) = (5, -3, 2)\n",
      "Checking (j, m1, m2) = (5, -3, 3)\n",
      "Checking (j, m1, m2) = (5, -3, 4)\n",
      "Checking (j, m1, m2) = (5, -3, 5)\n",
      "Checking (j, m1, m2) = (5, -2, -5)\n",
      "Checking (j, m1, m2) = (5, -2, -4)\n",
      "Checking (j, m1, m2) = (5, -2, -3)\n",
      "Checking (j, m1, m2) = (5, -2, -2)\n",
      "Checking (j, m1, m2) = (5, -2, -1)\n",
      "Checking (j, m1, m2) = (5, -2, 0)\n",
      "Checking (j, m1, m2) = (5, -2, 1)\n",
      "Checking (j, m1, m2) = (5, -2, 2)\n",
      "Checking (j, m1, m2) = (5, -2, 3)\n",
      "Checking (j, m1, m2) = (5, -2, 4)\n",
      "Checking (j, m1, m2) = (5, -2, 5)\n",
      "Checking (j, m1, m2) = (5, -1, -5)\n",
      "Checking (j, m1, m2) = (5, -1, -4)\n",
      "Checking (j, m1, m2) = (5, -1, -3)\n",
      "Checking (j, m1, m2) = (5, -1, -2)\n",
      "Checking (j, m1, m2) = (5, -1, -1)\n",
      "Checking (j, m1, m2) = (5, -1, 0)\n",
      "Checking (j, m1, m2) = (5, -1, 1)\n",
      "Checking (j, m1, m2) = (5, -1, 2)\n",
      "Checking (j, m1, m2) = (5, -1, 3)\n",
      "Checking (j, m1, m2) = (5, -1, 4)\n",
      "Checking (j, m1, m2) = (5, -1, 5)\n",
      "Checking (j, m1, m2) = (5, 0, -5)\n",
      "Checking (j, m1, m2) = (5, 0, -4)\n",
      "Checking (j, m1, m2) = (5, 0, -3)\n",
      "Checking (j, m1, m2) = (5, 0, -2)\n",
      "Checking (j, m1, m2) = (5, 0, -1)\n",
      "Checking (j, m1, m2) = (5, 0, 0)\n",
      "Checking (j, m1, m2) = (5, 0, 1)\n",
      "Checking (j, m1, m2) = (5, 0, 2)\n",
      "Checking (j, m1, m2) = (5, 0, 3)\n",
      "Checking (j, m1, m2) = (5, 0, 4)\n",
      "Checking (j, m1, m2) = (5, 0, 5)\n",
      "Checking (j, m1, m2) = (5, 1, -5)\n",
      "Checking (j, m1, m2) = (5, 1, -4)\n",
      "Checking (j, m1, m2) = (5, 1, -3)\n",
      "Checking (j, m1, m2) = (5, 1, -2)\n",
      "Checking (j, m1, m2) = (5, 1, -1)\n",
      "Checking (j, m1, m2) = (5, 1, 0)\n",
      "Checking (j, m1, m2) = (5, 1, 1)\n",
      "Checking (j, m1, m2) = (5, 1, 2)\n",
      "Checking (j, m1, m2) = (5, 1, 3)\n",
      "Checking (j, m1, m2) = (5, 1, 4)\n",
      "Checking (j, m1, m2) = (5, 1, 5)\n",
      "Checking (j, m1, m2) = (5, 2, -5)\n",
      "Checking (j, m1, m2) = (5, 2, -4)\n",
      "Checking (j, m1, m2) = (5, 2, -3)\n",
      "Checking (j, m1, m2) = (5, 2, -2)\n",
      "Checking (j, m1, m2) = (5, 2, -1)\n",
      "Checking (j, m1, m2) = (5, 2, 0)\n",
      "Checking (j, m1, m2) = (5, 2, 1)\n",
      "Checking (j, m1, m2) = (5, 2, 2)\n",
      "Checking (j, m1, m2) = (5, 2, 3)\n",
      "Checking (j, m1, m2) = (5, 2, 4)\n",
      "Checking (j, m1, m2) = (5, 2, 5)\n",
      "Checking (j, m1, m2) = (5, 3, -5)\n",
      "Checking (j, m1, m2) = (5, 3, -4)\n",
      "Checking (j, m1, m2) = (5, 3, -3)\n",
      "Checking (j, m1, m2) = (5, 3, -2)\n",
      "Checking (j, m1, m2) = (5, 3, -1)\n",
      "Checking (j, m1, m2) = (5, 3, 0)\n",
      "Checking (j, m1, m2) = (5, 3, 1)\n",
      "Checking (j, m1, m2) = (5, 3, 2)\n",
      "Checking (j, m1, m2) = (5, 3, 3)\n",
      "Checking (j, m1, m2) = (5, 3, 4)\n",
      "Checking (j, m1, m2) = (5, 3, 5)\n",
      "Checking (j, m1, m2) = (5, 4, -5)\n",
      "Checking (j, m1, m2) = (5, 4, -4)\n",
      "Checking (j, m1, m2) = (5, 4, -3)\n",
      "Checking (j, m1, m2) = (5, 4, -2)\n",
      "Checking (j, m1, m2) = (5, 4, -1)\n",
      "Checking (j, m1, m2) = (5, 4, 0)\n",
      "Checking (j, m1, m2) = (5, 4, 1)\n",
      "Checking (j, m1, m2) = (5, 4, 2)\n",
      "Checking (j, m1, m2) = (5, 4, 3)\n",
      "Checking (j, m1, m2) = (5, 4, 4)\n",
      "Checking (j, m1, m2) = (5, 4, 5)\n",
      "Checking (j, m1, m2) = (5, 5, -5)\n",
      "Checking (j, m1, m2) = (5, 5, -4)\n",
      "Checking (j, m1, m2) = (5, 5, -3)\n",
      "Checking (j, m1, m2) = (5, 5, -2)\n",
      "Checking (j, m1, m2) = (5, 5, -1)\n",
      "Checking (j, m1, m2) = (5, 5, 0)\n",
      "Checking (j, m1, m2) = (5, 5, 1)\n",
      "Checking (j, m1, m2) = (5, 5, 2)\n",
      "Checking (j, m1, m2) = (5, 5, 3)\n",
      "Checking (j, m1, m2) = (5, 5, 4)\n",
      "Checking (j, m1, m2) = (5, 5, 5)\n"
     ]
    }
   ],
   "source": [
    "for j, m1, m2 in mathematica_wignerD:\n",
    "    mathematica_value = sympy.expand(sympy.trigsimp(sympy.simplify(mathematica_wignerD[(j, m1, m2)])), trig=True)\n",
    "    sympy_value = sympy.expand(sympy.trigsimp(sympy.simplify(Rotation.D(j, m1, m2, -psi, -theta, -phi).doit())), trig=True)\n",
    "    ratio = sympy.simplify(mathematica_value/sympy_value)\n",
    "    mathematica_value, sympy_value = sympy.fraction(ratio)\n",
    "    mathematica_value = sympy.simplify(sympy.simplify(mathematica_value.subs(half_angle_replacements)).subs(half_angle_replacements))\n",
    "    sympy_value = sympy.simplify(sympy.simplify(sympy_value.subs(half_angle_replacements)).subs(half_angle_replacements))\n",
    "    difference = simplify(mathematica_value - sympy_value)\n",
    "    print('Checking (j, m1, m2) = ({0}, {1}, {2})'.format(j, m1, m2))\n",
    "    if difference:\n",
    "        display(mathematica_value, sympy_value, difference)\n",
    "        print()"
   ]
  },
  {
   "cell_type": "markdown",
   "metadata": {},
   "source": [
    "All cases show agreement."
   ]
  },
  {
   "cell_type": "markdown",
   "metadata": {},
   "source": [
    "I'm not quite sure how to interpret this weird sign difference.  Flipping the signs is one of the things you do when inverting a rotation, but you also flip the order of the angles.  This could essentially be done here as well if we also flip the order of `m1` and `m2` — except that we need an additional factor of $(-1)^{m_1+m_2}$.  So we could think of this as saying that one of these provides the D matrix for the *inverse* rotation of the other, and they swap the order of the `m` arguments, and there's a (Condon-Shortley) phase difference.\n",
    "\n",
    "I'll just quickly verify that `Rotation.D` actually satisfies this symmetry:"
   ]
  },
  {
   "cell_type": "code",
   "execution_count": 13,
   "metadata": {},
   "outputs": [],
   "source": [
    "for j in range(6):\n",
    "    for m1 in range(-j, j+1):\n",
    "        for m2 in range(-j, j+1):\n",
    "            #print(j, m1, m2)\n",
    "            difference = sympy.simplify(Rotation.D(j, m1, m2, -psi, -theta, -phi).doit()\n",
    "                                        - (-1)**(m1+m2)*Rotation.D(j, m2, m1, -phi, -theta, -psi).doit())\n",
    "            if difference:\n",
    "                display(difference)"
   ]
  },
  {
   "cell_type": "markdown",
   "metadata": {},
   "source": [
    "So another way to say this is that SymPy takes the inverse rotation, and returns the transpose with that weird phase."
   ]
  },
  {
   "cell_type": "markdown",
   "metadata": {},
   "source": [
    "# Compare Mathematica to `spherical_functions`"
   ]
  },
  {
   "cell_type": "markdown",
   "metadata": {},
   "source": [
    "I find both Mathematica's and SymPy's descriptions to be ambiguous, but it looks like Mathematica's is closer to my thinking — except that other places in the documentation make me think that their Condon-Shortley phases are weird, so I'll play around with that until I get some agreement.  I'll check by simply evaluating on random numbers."
   ]
  },
  {
   "cell_type": "code",
   "execution_count": 23,
   "metadata": {},
   "outputs": [],
   "source": [
    "np.random.seed(1234)\n",
    "for _ in range(100):  # Test for 100 sets of random Euler angles\n",
    "    ψ, θ, ϕ = np.random.rand(3) * np.array([2*np.pi, np.pi, 2*np.pi])\n",
    "    for j, m1, m2 in mathematica_wignerD:\n",
    "        mathematica_value = mathematica_wignerD[(j, m1, m2)].subs({psi: ψ, theta: θ, phi: ϕ}).evalf()\n",
    "        spherical_functions_value = (-1)**(m1+m2) * sf.Wigner_D_element(quaternion.from_euler_angles(ψ, θ, ϕ), j, m1, m2)\n",
    "        diff = abs(mathematica_value - spherical_functions_value)\n",
    "        if diff > 3e-13:\n",
    "            print(j, m1, m2, ψ, θ, ϕ, diff)"
   ]
  },
  {
   "cell_type": "markdown",
   "metadata": {},
   "source": [
    "As expected, the only difference is in the overall phase.  In short, we have numerical equality between Mathematica's expression\n",
    "```\n",
    "WignerD[{j, m1, m2}, psi, theta, phi]\n",
    "```\n",
    "and `spherical_function`'s expression\n",
    "```\n",
    "(-1)**(m1+m2) * sf.Wigner_D_element(quaternion.from_euler_angles(psi, theta, phi), j, m1, m2)\n",
    "```\n",
    "So, the main conclusion is this:\n",
    "> The Wigner $\\mathfrak{D}$ functions contained in Mathematica and `spherical_functions` agree except for an overall phase factor of $(-1)^{m_1 + m_2}$.\n"
   ]
  }
 ],
 "metadata": {
  "kernelspec": {
   "display_name": "Python 3",
   "language": "python",
   "name": "python3"
  },
  "language_info": {
   "codemirror_mode": {
    "name": "ipython",
    "version": 3
   },
   "file_extension": ".py",
   "mimetype": "text/x-python",
   "name": "python",
   "nbconvert_exporter": "python",
   "pygments_lexer": "ipython3",
   "version": "3.6.7"
  }
 },
 "nbformat": 4,
 "nbformat_minor": 4
}
